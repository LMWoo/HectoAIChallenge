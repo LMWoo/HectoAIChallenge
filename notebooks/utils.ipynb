{
 "cells": [
  {
   "cell_type": "code",
   "execution_count": null,
   "id": "9d9bada8",
   "metadata": {},
   "outputs": [],
   "source": [
    "import os\n",
    "import shutil\n",
    "from pathlib import Path\n",
    "\n",
    "def collect_images(source_root, target_folder, extensions={'.jpg', '.jpeg', '.png', '.bmp', '.gif'}):\n",
    "    source_root = Path(source_root)\n",
    "    target_folder = Path(target_folder)\n",
    "    target_folder.mkdir(parents=True, exist_ok=True)\n",
    "\n",
    "    count = 0\n",
    "    for image_path in source_root.rglob('*'):\n",
    "        if image_path.suffix.lower() in extensions:\n",
    "            target_path = target_folder / image_path.name\n",
    "            shutil.copy2(image_path, target_path)\n",
    "            count += 1\n",
    "\n",
    "    print(f\"{count} images copied to {target_folder}\")\n"
   ]
  },
  {
   "cell_type": "code",
   "execution_count": null,
   "id": "3181d81a",
   "metadata": {},
   "outputs": [],
   "source": [
    "collect_images(\"./train\", \"./merged\")\n"
   ]
  }
 ],
 "metadata": {
  "language_info": {
   "name": "python"
  }
 },
 "nbformat": 4,
 "nbformat_minor": 5
}
